{
 "cells": [
  {
   "cell_type": "markdown",
   "id": "da360bd5",
   "metadata": {},
   "source": [
    "**Import important libraries**"
   ]
  },
  {
   "cell_type": "code",
   "execution_count": 1,
   "id": "4e24b285",
   "metadata": {},
   "outputs": [],
   "source": [
    "import matplotlib.pyplot as plt\n",
    "import pandas as pd "
   ]
  },
  {
   "cell_type": "markdown",
   "id": "158a0f82",
   "metadata": {},
   "source": [
    "**Create dataframe. Data source: \"Open Society Institute - Sofia\"**"
   ]
  },
  {
   "cell_type": "code",
   "execution_count": 2,
   "id": "0503452b",
   "metadata": {},
   "outputs": [],
   "source": [
    "df = pd.DataFrame({'Country':['Finland', 'Denmark', \n",
    "                              'Estonia', 'Sweden', 'Ireland', \n",
    "                              'Switzerland', 'Netherlands',\n",
    "                              'Iceland', 'Belgium', 'Germany',\n",
    "                              'Portugal', 'UK', 'Austria',\n",
    "                              'Czech Rep.', 'Spain', 'France',\n",
    "                              'Latvia', 'Lithuania', \n",
    "                              'Poland', 'Slovakia', 'Italy', 'Croatia', \n",
    "                              'Malta', 'Hungary', 'Cyprus', 'Greece',\n",
    "                              'Ukraine', 'Serbia', 'Moldova', 'Montenegro',\n",
    "                              'Bulgaria', 'Turkey', \n",
    "                              'Bosnia', 'Albania',\n",
    "                              'N. Macedonia', 'Georgia'],\n",
    "                   \n",
    "                   \n",
    "                   \n",
    "                  'Index':[74, 73, 71, 71, 70, 67, 64, \n",
    "                           62, 61, 61, 60, 60, 59, 58, 58, 57, 55,\n",
    "                           54, 53, 48, 47, 45, 45, 41, 39, 38,\n",
    "                           38, 33, 32, 32, 31, 29, 24, 23, 22, 20]})"
   ]
  },
  {
   "cell_type": "code",
   "execution_count": 3,
   "id": "43fd332f",
   "metadata": {},
   "outputs": [],
   "source": [
    "reversed_df = df.iloc[::-1]"
   ]
  },
  {
   "cell_type": "code",
   "execution_count": null,
   "id": "8c2ffa8c",
   "metadata": {},
   "outputs": [],
   "source": []
  }
 ],
 "metadata": {
  "kernelspec": {
   "display_name": "Python 3 (ipykernel)",
   "language": "python",
   "name": "python3"
  },
  "language_info": {
   "codemirror_mode": {
    "name": "ipython",
    "version": 3
   },
   "file_extension": ".py",
   "mimetype": "text/x-python",
   "name": "python",
   "nbconvert_exporter": "python",
   "pygments_lexer": "ipython3",
   "version": "3.11.5"
  }
 },
 "nbformat": 4,
 "nbformat_minor": 5
}
